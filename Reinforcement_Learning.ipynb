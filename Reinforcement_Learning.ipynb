{
 "cells": [
  {
   "cell_type": "code",
   "execution_count": 19,
   "metadata": {
    "id": "ZQ38NOIkwCi0"
   },
   "outputs": [],
   "source": [
    "from collections import defaultdict, namedtuple\n",
    "from enum import Enum\n",
    "from typing import Tuple, List\n",
    "import random\n",
    "from IPython.display import clear_output\n",
    "\n",
    "Point = namedtuple('Point', ['x', 'y'])\n",
    "class Direction(Enum):\n",
    "  NORTH = \"⬆\"\n",
    "  EAST = \"⮕\"\n",
    "  SOUTH = \"⬇\"\n",
    "  WEST = \"⬅\"\n",
    "\n",
    "  def values(self):\n",
    "    return [v for v in self]"
   ]
  },
  {
   "cell_type": "code",
   "execution_count": 20,
   "metadata": {
    "id": "k64kfJi3jBaq"
   },
   "outputs": [],
   "source": [
    "class SimpleGridWorld(object):\n",
    "  def __init__(self, width: int = 5, height: int = 5, debug: bool = False):\n",
    "    self.width = width\n",
    "    self.height = height\n",
    "    self.debug = debug\n",
    "    self.action_space = [d for d in Direction]\n",
    "    self.reset()"
   ]
  },
  {
   "cell_type": "code",
   "execution_count": 21,
   "metadata": {
    "id": "TkPQCnrRjqIO"
   },
   "outputs": [],
   "source": [
    "class SimpleGridWorld(SimpleGridWorld):\n",
    "  def reset(self):\n",
    "    self.cur_pos = Point(x=0, y=(self.height - 1))\n",
    "    self.goal = Point(x=(self.width - 1), y=0)\n",
    " \n",
    "    if self.debug:\n",
    "      print(self)\n",
    "    return self.cur_pos, 0, False"
   ]
  },
  {
   "cell_type": "code",
   "execution_count": 22,
   "metadata": {
    "id": "7rCJNuVnjtA2"
   },
   "outputs": [],
   "source": [
    "class SimpleGridWorld(SimpleGridWorld):\n",
    "  def step(self, action: Direction):\n",
    " \n",
    "    if action == Direction.NORTH:\n",
    "      self.cur_pos = Point(self.cur_pos.x, self.cur_pos.y + 1)\n",
    "    elif action == Direction.EAST:\n",
    "      self.cur_pos = Point(self.cur_pos.x + 1, self.cur_pos.y)\n",
    "    elif action == Direction.SOUTH:\n",
    "      self.cur_pos = Point(self.cur_pos.x, self.cur_pos.y - 1)\n",
    "    elif action == Direction.WEST:\n",
    "      self.cur_pos = Point(self.cur_pos.x - 1, self.cur_pos.y)\n",
    "    # To Check if out of bounds\n",
    "    if self.cur_pos.x >= self.width:\n",
    "      self.cur_pos = Point(self.width - 1, self.cur_pos.y)\n",
    "    if self.cur_pos.y >= self.height:\n",
    "      self.cur_pos = Point(self.width, self.cur_pos.y - 1)\n",
    "    if self.cur_pos.x < 0:\n",
    "      self.cur_pos = Point(0, self.cur_pos.y)\n",
    "    if self.cur_pos.y < 0:\n",
    "      self.cur_pos = Point(self.cur_pos.x, 0)\n",
    "\n",
    "    # If at goal, terminate\n",
    "    is_terminal = self.cur_pos == self.goal\n",
    "\n",
    "    reward = -1\n",
    "\n",
    "    if self.debug:\n",
    "      print(self)\n",
    "\n",
    "    return self.cur_pos, reward, is_terminal"
   ]
  },
  {
   "cell_type": "code",
   "execution_count": 23,
   "metadata": {
    "id": "HGOg2vh_sNEA"
   },
   "outputs": [],
   "source": [
    "class SimpleGridWorld(SimpleGridWorld):\n",
    "  def __repr__(self):\n",
    "    res = \"\"\n",
    "    for y in reversed(range(self.height)):\n",
    "      for x in range(self.width):\n",
    "        if self.goal.x == x and self.goal.y == y:\n",
    "          if self.cur_pos.x == x and self.cur_pos.y == y:\n",
    "            res += \"@\"\n",
    "          else:\n",
    "            res += \"o\"\n",
    "          continue\n",
    "        if self.cur_pos.x == x and self.cur_pos.y == y:\n",
    "          res += \"x\"\n",
    "        else:\n",
    "          res += \"_\"\n",
    "      res += \"\\n\"\n",
    "    return res"
   ]
  },
  {
   "cell_type": "code",
   "execution_count": 24,
   "metadata": {
    "colab": {
     "base_uri": "https://localhost:8080/"
    },
    "id": "6-IuuVBjv_tc",
    "outputId": "03161fe6-1f82-456f-85f5-131474290516"
   },
   "outputs": [
    {
     "name": "stdout",
     "output_type": "stream",
     "text": [
      "x____\n",
      "_____\n",
      "_____\n",
      "_____\n",
      "____o\n",
      "\n",
      "This shows a simple visualisation of the environment state.\n",
      "\n",
      "_____\n",
      "x____\n",
      "_____\n",
      "_____\n",
      "____o\n",
      "\n",
      "_____\n",
      "_____\n",
      "x____\n",
      "_____\n",
      "____o\n",
      "\n",
      "(Point(x=0, y=2), -1, False) ⬅ This displays the state and reward from the environment AFTER moving.\n",
      "\n",
      "_____\n",
      "_____\n",
      "_____\n",
      "x____\n",
      "____o\n",
      "\n",
      "_____\n",
      "_____\n",
      "_____\n",
      "_____\n",
      "x___o\n",
      "\n",
      "_____\n",
      "_____\n",
      "_____\n",
      "_____\n",
      "_x__o\n",
      "\n",
      "_____\n",
      "_____\n",
      "_____\n",
      "_____\n",
      "__x_o\n",
      "\n",
      "_____\n",
      "_____\n",
      "_____\n",
      "_____\n",
      "___xo\n",
      "\n",
      "_____\n",
      "_____\n",
      "_____\n",
      "_____\n",
      "____@\n",
      "\n"
     ]
    },
    {
     "data": {
      "text/plain": [
       "(Point(x=4, y=0), -1, True)"
      ]
     },
     "execution_count": 24,
     "metadata": {},
     "output_type": "execute_result"
    }
   ],
   "source": [
    "s = SimpleGridWorld(debug=True)\n",
    "print(\"This shows a simple visualisation of the environment state.\\n\")\n",
    "s.step(Direction.SOUTH)\n",
    "print(s.step(Direction.SOUTH), \"⬅ This displays the state and reward from the environment AFTER moving.\\n\")\n",
    "s.step(Direction.SOUTH)\n",
    "s.step(Direction.SOUTH)\n",
    "s.step(Direction.EAST)\n",
    "s.step(Direction.EAST)\n",
    "s.step(Direction.EAST)\n",
    "s.step(Direction.EAST)"
   ]
  },
  {
   "cell_type": "code",
   "execution_count": 25,
   "metadata": {
    "id": "34Y8V-k89dFS"
   },
   "outputs": [],
   "source": [
    "class MonteCarloGeneration(object):\n",
    "  def __init__(self, env: object, max_steps: int = 1000, debug: bool = False):\n",
    "    self.env = env\n",
    "    self.max_steps = max_steps\n",
    "    self.debug = debug\n",
    "\n",
    "  def run(self) -> List:\n",
    "    buffer = []\n",
    "    n_steps = 0 \n",
    "    state, _, _ = self.env.reset() \n",
    "    terminal = False\n",
    "    while not terminal: \n",
    "      action = random.choice(self.env.action_space) \n",
    "      next_state, reward, terminal = self.env.step(action)\n",
    "      buffer.append((state, action, reward)) # Store the result\n",
    "      state = next_state \n",
    "      n_steps += 1\n",
    "      if n_steps >= self.max_steps:\n",
    "        if self.debug:\n",
    "          print(\"Terminated early due to large number of steps\")\n",
    "        terminal = True \n",
    "    return buffer"
   ]
  },
  {
   "cell_type": "code",
   "execution_count": 26,
   "metadata": {
    "colab": {
     "base_uri": "https://localhost:8080/"
    },
    "id": "ymk3yN7H_AEU",
    "outputId": "036410de-2292-4806-a923-3b87ac85fcc0"
   },
   "outputs": [
    {
     "name": "stdout",
     "output_type": "stream",
     "text": [
      "x____\n",
      "_____\n",
      "_____\n",
      "_____\n",
      "____o\n",
      "\n",
      "x____\n",
      "_____\n",
      "_____\n",
      "_____\n",
      "____o\n",
      "\n",
      "_x___\n",
      "_____\n",
      "_____\n",
      "_____\n",
      "____o\n",
      "\n",
      "__x__\n",
      "_____\n",
      "_____\n",
      "_____\n",
      "____o\n",
      "\n",
      "___x_\n",
      "_____\n",
      "_____\n",
      "_____\n",
      "____o\n",
      "\n",
      "_____\n",
      "_____\n",
      "_____\n",
      "_____\n",
      "____o\n",
      "\n",
      "____x\n",
      "_____\n",
      "_____\n",
      "_____\n",
      "____o\n",
      "\n",
      "___x_\n",
      "_____\n",
      "_____\n",
      "_____\n",
      "____o\n",
      "\n",
      "_____\n",
      "___x_\n",
      "_____\n",
      "_____\n",
      "____o\n",
      "\n",
      "_____\n",
      "_____\n",
      "___x_\n",
      "_____\n",
      "____o\n",
      "\n",
      "_____\n",
      "_____\n",
      "_____\n",
      "___x_\n",
      "____o\n",
      "\n",
      "_____\n",
      "_____\n",
      "_____\n",
      "_____\n",
      "___xo\n",
      "\n",
      "Terminated early due to large number of steps\n",
      "['⮕', '⮕', '⮕', '⬆', '⬅', '⬅', '⬇', '⬇', '⬇', '⬇']\n",
      "total reward: -10\n"
     ]
    }
   ],
   "source": [
    "env = SimpleGridWorld(debug=True) # Instantiate the environment\n",
    "generator = MonteCarloGeneration(env=env, max_steps=10, debug=True) # Instantiate the generation\n",
    "trajectory = generator.run() # Generate a trajectory\n",
    "print([t[1].value for t in trajectory]) \n",
    "print(f\"total reward: {sum([t[2] for t in trajectory])}\") "
   ]
  },
  {
   "cell_type": "code",
   "execution_count": 27,
   "metadata": {
    "id": "4CSqugUJyR_3"
   },
   "outputs": [],
   "source": [
    "class MonteCarloExperiment(object):\n",
    "  def __init__(self, generator: MonteCarloGeneration):\n",
    "    self.generator = generator\n",
    "    self.values = defaultdict(float)\n",
    "    self.counts = defaultdict(float)\n",
    "\n",
    "  def _to_key(self, state, action):\n",
    "    return (state, action)\n",
    "  \n",
    "  def action_value(self, state, action) -> float:\n",
    "    key = self._to_key(state, action)\n",
    "    if self.counts[key] > 0:\n",
    "      return self.values[key] / self.counts[key]\n",
    "    else:\n",
    "      return 0.0"
   ]
  },
  {
   "cell_type": "code",
   "execution_count": 28,
   "metadata": {
    "id": "iDXn0UmFBU6Z"
   },
   "outputs": [],
   "source": [
    "class MonteCarloExperiment(MonteCarloExperiment):\n",
    "  def run_episode(self) -> None:\n",
    "    trajectory = self.generator.run() # Generate a trajectory\n",
    "    episode_reward = 0\n",
    "    for i, t in enumerate(reversed(trajectory)): \n",
    "      state, action, reward = t\n",
    "      key = self._to_key(state, action)\n",
    "      episode_reward += reward  \n",
    "      self.values[key] += episode_reward \n",
    "      self.counts[key] += 1 "
   ]
  },
  {
   "cell_type": "code",
   "execution_count": 29,
   "metadata": {
    "colab": {
     "base_uri": "https://localhost:8080/"
    },
    "id": "Lz4m1mgpreTy",
    "outputId": "a2e69bbb-862e-48f6-cdd5-e2746d13a1a2"
   },
   "outputs": [
    {
     "name": "stdout",
     "output_type": "stream",
     "text": [
      "Run 0:  [0.0, 0.0, 0.0, 0.0]\n",
      "Run 1:  [0.0, -1.0, 0.0, 0.0]\n",
      "Run 2:  [0.0, -1.0, 0.0, 0.0]\n",
      "Run 3:  [-18.0, -1.0, 0.0, 0.0]\n"
     ]
    }
   ],
   "source": [
    "env = SimpleGridWorld(debug=False) # Instantiate the environment \n",
    "generator = MonteCarloGeneration(env=env, debug=True) # Instantiate the trajectory generator\n",
    "agent = MonteCarloExperiment(generator=generator)\n",
    "for i in range(4):\n",
    "  agent.run_episode()\n",
    "  print(f\"Run {i}: \", [agent.action_value(Point(3,0), d) for d in env.action_space])"
   ]
  },
  {
   "cell_type": "code",
   "execution_count": 30,
   "metadata": {
    "colab": {
     "base_uri": "https://localhost:8080/"
    },
    "id": "iAkaVRETrt65",
    "outputId": "477d3a9e-2b27-405a-ba70-e5d0885c6a2f"
   },
   "outputs": [
    {
     "name": "stdout",
     "output_type": "stream",
     "text": [
      "-51.63 | -38.54 | -47.12 | -32.69 | -31.34 | \n",
      "-10.12 | -39.06 | -52.67 | -44.20 | -21.04 | \n",
      "-14.00 | -29.38 | -36.90 | -27.25 | -18.00 | \n",
      "-22.00 | -31.67 | -32.10 | -11.58 | -11.62 | \n",
      " -8.00 | -30.92 | -23.92 |  -4.75 |    @   | \n",
      "\n"
     ]
    }
   ],
   "source": [
    "def state_value_2d(env, agent):\n",
    "    res = \"\"\n",
    "    for y in reversed(range(env.height)):\n",
    "      for x in range(env.width):\n",
    "        if env.goal.x == x and env.goal.y == y:\n",
    "          res += \"   @  \"\n",
    "        else:\n",
    "          state_value = sum([agent.action_value(Point(x,y), d) for d in env.action_space]) / len(env.action_space)\n",
    "          res += f'{state_value:6.2f}'\n",
    "        res += \" | \"\n",
    "      res += \"\\n\"\n",
    "    return res\n",
    "\n",
    "print(state_value_2d(env, agent))"
   ]
  },
  {
   "cell_type": "code",
   "execution_count": 31,
   "metadata": {
    "colab": {
     "base_uri": "https://localhost:8080/"
    },
    "id": "434JeYohWxUK",
    "outputId": "9f36603d-f7ce-4f73-be4a-4efc759d35a7"
   },
   "outputs": [
    {
     "name": "stdout",
     "output_type": "stream",
     "text": [
      "Iteration: 999\n",
      "-80.98 | -82.68 | -80.28 | -78.81 | -79.68 | \n",
      "-81.56 | -78.58 | -77.76 | -76.40 | -73.78 | \n",
      "-82.23 | -78.90 | -75.16 | -68.34 | -61.94 | \n",
      "-82.77 | -76.54 | -67.35 | -54.34 | -40.21 | \n",
      "-76.42 | -71.21 | -61.99 | -39.14 |    @   | \n",
      "\n"
     ]
    }
   ],
   "source": [
    "env = SimpleGridWorld() # Instantiate the environment\n",
    "generator = MonteCarloGeneration(env=env) # Instantiate the trajectory generator\n",
    "agent = MonteCarloExperiment(generator=generator)\n",
    "for i in range(1000):\n",
    "  clear_output(wait=True)\n",
    "  agent.run_episode()\n",
    "  print(f\"Iteration: {i}\")\n",
    "  \n",
    "  print(state_value_2d(env, agent), flush=True)\n",
    " "
   ]
  },
  {
   "cell_type": "code",
   "execution_count": 32,
   "metadata": {
    "colab": {
     "base_uri": "https://localhost:8080/"
    },
    "id": "udC_5ImwYBA1",
    "outputId": "1e96ab61-8b58-4df3-bf51-a3471bf50afe"
   },
   "outputs": [
    {
     "name": "stdout",
     "output_type": "stream",
     "text": [
      "⬆ | ⮕ | ⮕ | ⬇ | ⬇ | \n",
      "⮕ | ⮕ | ⬇ | ⬇ | ⬇ | \n",
      "⮕ | ⮕ | ⮕ | ⬇ | ⬇ | \n",
      "⮕ | ⮕ | ⮕ | ⬇ | ⬇ | \n",
      "⮕ | ⮕ | ⮕ | ⮕ | @ | \n",
      "\n"
     ]
    }
   ],
   "source": [
    "def argmax(a):\n",
    "    return max(range(len(a)), key=lambda x: a[x])\n",
    "\n",
    "def next_best_value_2d(env, agent):\n",
    "    res = \"\"\n",
    "    for y in reversed(range(env.height)):\n",
    "      for x in range(env.width):\n",
    "        if env.goal.x == x and env.goal.y == y:\n",
    "          res += \"@\"\n",
    "        else:\n",
    "          # Find the action that has the highest value\n",
    "          loc = argmax([agent.action_value(Point(x,y), d) for d in env.action_space])\n",
    "          res += f'{env.action_space[loc].value}'\n",
    "        res += \" | \"\n",
    "      res += \"\\n\"\n",
    "    return res\n",
    "\n",
    "print(next_best_value_2d(env, agent))"
   ]
  },
  {
   "cell_type": "code",
   "execution_count": 33,
   "metadata": {
    "colab": {
     "base_uri": "https://localhost:8080/"
    },
    "id": "eiCODK9C3qR9",
    "outputId": "b5189349-19fe-4d6a-883b-adee08557618"
   },
   "outputs": [
    {
     "name": "stdout",
     "output_type": "stream",
     "text": [
      "Iteration: 999\n",
      "-85.63 | -84.67 | -82.89 | -81.27 | -80.26 | \n",
      "-88.72 | -87.74 | -83.96 | -79.52 | -75.95 | \n",
      "-87.54 | -85.27 | -77.64 | -71.53 | -66.30 | \n",
      "-86.01 | -78.17 | -69.30 | -57.46 | -44.02 | \n",
      "-87.50 | -77.37 | -64.31 | -40.65 |    @   | \n",
      "\n",
      "⬆ | ⮕ | ⬆ | ⬆ | ⬇ | \n",
      "⮕ | ⬆ | ⬇ | ⬇ | ⬇ | \n",
      "⮕ | ⬇ | ⬇ | ⬇ | ⬇ | \n",
      "⮕ | ⮕ | ⮕ | ⬇ | ⬇ | \n",
      "⮕ | ⮕ | ⮕ | ⮕ | @ | \n",
      "\n"
     ]
    }
   ],
   "source": [
    "env = SimpleGridWorld() # Instantiate the environment\n",
    "generator = MonteCarloGeneration(env=env) # Instantiate the trajectory generator\n",
    "agent = MonteCarloExperiment(generator=generator)\n",
    "for i in range(1000):\n",
    "  clear_output(wait=True)\n",
    "  agent.run_episode()\n",
    "  print(f\"Iteration: {i}\")\n",
    "  print(state_value_2d(env, agent))\n",
    "  print(next_best_value_2d(env, agent), flush=True)"
   ]
  }
 ],
 "metadata": {
  "colab": {
   "collapsed_sections": [],
   "name": "201102_code_driven_rl_intro.ipynb",
   "provenance": []
  },
  "kernelspec": {
   "display_name": "Python 3",
   "language": "python",
   "name": "python3"
  },
  "language_info": {
   "codemirror_mode": {
    "name": "ipython",
    "version": 3
   },
   "file_extension": ".py",
   "mimetype": "text/x-python",
   "name": "python",
   "nbconvert_exporter": "python",
   "pygments_lexer": "ipython3",
   "version": "3.8.5"
  }
 },
 "nbformat": 4,
 "nbformat_minor": 1
}
